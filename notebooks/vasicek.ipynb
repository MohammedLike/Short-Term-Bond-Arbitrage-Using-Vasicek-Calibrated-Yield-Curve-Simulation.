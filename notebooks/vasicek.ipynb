{
 "cells": [
  {
   "cell_type": "code",
   "execution_count": 6,
   "id": "354c5122",
   "metadata": {},
   "outputs": [
    {
     "name": "stdout",
     "output_type": "stream",
     "text": [
      "YF.download() has changed argument auto_adjust default to True\n"
     ]
    },
    {
     "name": "stderr",
     "output_type": "stream",
     "text": [
      "[*********************100%***********************]  1 of 1 completed"
     ]
    },
    {
     "name": "stdout",
     "output_type": "stream",
     "text": [
      "Estimated a (mean reversion speed): 0.0368\n",
      "Estimated b (long-term mean): 0.1222\n",
      "Estimated σ (volatility): 0.0047\n"
     ]
    },
    {
     "name": "stderr",
     "output_type": "stream",
     "text": [
      "\n"
     ]
    }
   ],
   "source": [
    "import sys\n",
    "import os\n",
    "sys.path.append(os.path.abspath(\"../\"))  # Go up to root, where 'src' is\n",
    "\n",
    "from src.data_loader import get_short_rate_data\n",
    "from src.vasicek_model import calibrate_vasicek\n",
    "\n",
    "\n",
    "\n",
    "# Step 1: Get short rate data\n",
    "rates = get_short_rate_data()\n",
    "\n",
    "# Step 2: Calibrate Vasicek model\n",
    "a, b, sigma = calibrate_vasicek(rates)\n",
    "\n",
    "print(f\"Estimated a (mean reversion speed): {a:.4f}\")\n",
    "print(f\"Estimated b (long-term mean): {b:.4f}\")\n",
    "print(f\"Estimated σ (volatility): {sigma:.4f}\")\n"
   ]
  },
  {
   "cell_type": "code",
   "execution_count": null,
   "id": "4b2086b6",
   "metadata": {},
   "outputs": [],
   "source": []
  }
 ],
 "metadata": {
  "kernelspec": {
   "display_name": "Python 3",
   "language": "python",
   "name": "python3"
  },
  "language_info": {
   "codemirror_mode": {
    "name": "ipython",
    "version": 3
   },
   "file_extension": ".py",
   "mimetype": "text/x-python",
   "name": "python",
   "nbconvert_exporter": "python",
   "pygments_lexer": "ipython3",
   "version": "3.10.11"
  }
 },
 "nbformat": 4,
 "nbformat_minor": 5
}
